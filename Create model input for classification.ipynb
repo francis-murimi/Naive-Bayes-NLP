{
 "cells": [
  {
   "cell_type": "code",
   "execution_count": 1,
   "id": "8d890692",
   "metadata": {},
   "outputs": [],
   "source": [
    "import math\n",
    "import random\n",
    "from collections import defaultdict\n",
    "from pprint import pprint"
   ]
  },
  {
   "cell_type": "code",
   "execution_count": 2,
   "id": "917b3630",
   "metadata": {},
   "outputs": [],
   "source": [
    "# Prevent future/deprecation warnings from showing in output\n",
    "import warnings\n",
    "warnings.filterwarnings(action='ignore')"
   ]
  },
  {
   "cell_type": "code",
   "execution_count": 3,
   "id": "44e9e195",
   "metadata": {},
   "outputs": [],
   "source": [
    "import numpy as np\n",
    "import pandas as pd\n",
    "import string\n",
    "import nltk"
   ]
  },
  {
   "cell_type": "code",
   "execution_count": 4,
   "id": "1ffa86a8",
   "metadata": {},
   "outputs": [],
   "source": [
    "## Read text from a file"
   ]
  },
  {
   "cell_type": "code",
   "execution_count": 19,
   "id": "5872ba3c",
   "metadata": {},
   "outputs": [],
   "source": [
    "filename = 'safe-chicken.txt'"
   ]
  },
  {
   "cell_type": "code",
   "execution_count": 20,
   "id": "e23aaa53",
   "metadata": {},
   "outputs": [
    {
     "data": {
      "text/plain": [
       "'A veterinary officer vaccinates a chicken. Vaccination helps to keep diseases at bay enabling one to produce safe meat and eggs.\\n\\n\\nBy\\xa0\\nJecinta Mwirigi\\n\\n\\nLivestock production specialist\\n\\n\\n\\nThe current indiscriminate use of antibiotics in poultry production systems raises safety concerns. To avoid this, farmers need to apply good agricultural practices that include deployment of bio-security measures and use of recommended vaccines. Here is how to do it:\\n\\nAcross the world, poultry meat and eggs are some of the most popular livestock products.\\n\\nPoultry meat consumption rose significantly from 34.6 million metric tonnes (MT) in 1990 to 130 MT in 2020, according to the Food and Agriculture Organization (FAO).\\n\\nIn 2022, consumption of chicken meat, the most popular poultry product, is expected to hit 98 million MT, double the volumes eaten in 1999, the Organization for Economic Cooperation and Development notes in its latest report. And in less than a decade, adds the organisation, chicken will become the most consumed source of animal protein.\\n\\nAffordability, worldwide production, low fat content and few religious and cultural barriers are some of the things that contribute to the high preference for poultry products.\\n\\nHowever, the current indiscriminate use of antimicrobials in the poultry production systems raises safety concerns to animals, humans and the environment.\\n\\nThe main one is anti-microbial resistance (AMR). To overcome this challenge that has the potential to wipe out gains made in the poultry trade, farmers should familiarise themselves with the dangers of arbitrary application of antimicrobials.\\n\\nSecond, they need to know and apply good agricultural practices (GAPs) that will curb use of antimicrobials. These include deployment of bio-security measures and use of vaccines. Others are control of external and internal parasites, proper housing and feeding and environmental hygiene. Regulations should also be put in place to curb use antibiotics as preventive drugs, growth promoters and egg production enhancers.\\n\\nAMR occurs when microbes/germs such as bacteria, viruses, fungi and parasites change over time and no longer respond to medicines, making infections harder to treat and increasing the risk of disease spread, severe illness and death. The main drivers of AMR are misuse and overuse of antimicrobials.\\n\\nFurther, lack of clean water, proper sanitation and inadequate disease control promote spread of drug resistant disease-causing pathogens, which are currently referred to as superbugs. AMR is a global health and development concern and the World Health Organization (WHO) has declared that it is one of the top 10 global public health threats facing humanity.\\n\\nMisuse and overuse of antimicrobials in chicken production is common in Kenya. In a study carried out in Kiambu County, whose findings were published in the Pubmed Journal in January 2021, researchers from FAO, Kenya’s Ministry of Agriculture and College of Sciences in Makerere, Uganda, investigated the challenges of small-scale layer farms. They found out that 62 per cent of farmers were constantly using antimicrobials, some of which were referred to as magic drugs. These included tetracycline and tylosin. Misuse of antibiotics was done through treatment of all birds when only one of them in a flock was ill and use of the drugs to prevent diseases.\\n\\nThe study further showed that only 47.5 per cent of farmers had heard about withdrawal period, which implies that they continued selling and consuming meat and eggs that had traces of the drugs used to treat the birds. Further, it was found that the farmers were using antibiotics as growth promoters and egg boosters. This implies that the antibiotics were being used throughout the lifecycle of a bird. Here is how to avoid misuse of antiobiotics.\\n\\nThese include putting foot and or vehicle baths at the entry of the farm or from one poultry house to another to control spread of diseases from farm to farm, unit to unit. A footbath is a shallow trough that has a disinfectant that kills most germs on the feet and wheel of vehicles passing through it. This important disease control measure is rarely utilised. In the Kiambu study, the researchers found out that only 51 per cent of the respondents had footbaths at the entrance of their layer houses.\\n\\nOut of those who had indicated that they had footbaths, 51 per cent described theirs as sponges/mats soaked in plain water (without soap or disinfectant), 33 per cent had mats soaked in disinfectant, 13.4 per cent had concrete troughs with plain water and 2.6 per cent had added disinfectant to the concrete troughs.\\n\\nFor this important tool to control diseases perfectly, it must have a broad-spectrum disinfectant that should be of the correct strength as indicated by the manufacturer’s label.\\n\\nThe chemical should also be changed regularly as it undergoes bio-degradation with time thus becoming ineffective. If possible, install troughs in a series so that the initial ones contain only clean water for removing dirt and the one next to the door has the disinfectant. You see, dirt dilutes the strength of the disinfectant.\\n\\nEnsure that the trough or container is protected from environmental effects such as rainwater that is likely to dilute the disinfectant and direct sunlight, which evaporates the water necessitating frequent addition.\\n\\nOther biosecurity measures include installing a perimeter fence on the poultry farm or house and use of personal protective equipment (PPE), regular cleaning and disinfection of feed and water equipment as well as regulating human traffic to the poultry establishments.\\n\\nVaccines have been able to transform traditional poultry keeping into thriving enterprises, attracting people of all ages through the income offered by the agribusiness. However, disease outbreaks continue to be experienced among vaccinated and unvaccinated birds despite the high effectiveness of vaccines. This leads to use of antimicrobials to control the diseases thus leading to AMR. For vaccines to work, here are the dos and don’ts:\\n\\nCold storage: Always use cool boxes/ice packs to transport vaccines that require low temperatures.\\n\\nHigh percent coverage: Ensure that you administer a vaccine to all birds in a flock using an appropriate route. For example, whereas it is easy to administer Newcastle Disease (NCD) vaccine through drinking water to layers and broilers because they consume dry feeds and thus take a lot of water, it is advisable to administer NCD vaccine though the eye or nose route to free-range or unconfined birds as they might not consume water within the stipulated time.\\n\\nConstitute the vaccine with the recommended amount of water so that the birds finish it in one hour. Thereafter, you can add more water. Water with reconstituted vaccine should be placed in a cool environment as high temperatures inactivate the drug.\\n\\nHygiene: The vaccine handler should ensure that his hands are clean and any equipment or tool used for vaccine administration is also clean. Administer vaccines early in the morning or late afternoon to minimise handling and weather stress.\\n\\nFor injectable vaccines, use sterile non-expired vaccine diluents issued by the manufacturer of the drug.\\n\\nMature and trained personnel should do the vaccine administration. For vaccines that are administered through drinking water, withdraw water for not more than one hour before provision of the vaccine water so that birds get thirsty.\\n\\n\\xa0Have an assistant to restrain the birds when administering vaccines that are not applied through drinking water.\\n\\nVaccination schedule: Diseases commonly controlled through vaccines are NCD, infectious bursal disease (Gumboro), infectious bronchitis (IB), fowl typhoid and fowl pox. Commercial producers are normally issued with a vaccination schedule upon purchase of chicks, thus, all you need to do is follow the schedule judiciously for effective vaccination.\\n\\nFor producers of local/improved indigenous chickens, a likely vaccination schedule includes administration of Gumboro at Day 10 and a booster at Day 18; NCD and fowl pox at three weeks and fowl typhoid at eight weeks.\\n\\nNCD boosters should be administered after six weeks and, thereafter, every 3-6 months depending on disease challenges in the area. The early NCD vaccines should be the ones combined with IB. Vaccine manufacturers need to produce vaccine packs of 25 and 50 doses for Gumboro, fowl typhoid and fowl pox, just like in the case of NCD. This is because most indigenous birds farmers have less than 50 birds.\\n\\nUse treated (chlorinated) or borehole water, which is too salty to reconstitute the vaccine. Instead, use rainwater or nose, eye drop preparations instead of those that are administered through drinking water.\\n\\nVaccinate stressed birds or those showing signs of disease.\\n\\nAdminister vaccines in metal drinkers as they are likely to react with the vaccine\\n\\nDr Mwirigi is a livestock production specialist. [email\\xa0protected]\\n\\n\\nWe come to you.\\nWe are always looking for ways to improve our stories. Let us know what you liked and what we can improve on.\\n\\n\\n\\nEarlier Wednesday, Sakaja accused President Kenyatta of intimidating CUE to withdraw its recognition of his academic papers.\\n\\n\\nHis rising political star was on Wednesday on the brink.\\n\\n\\nPolice recovered a television set, sub-hoofer and items of clothing that the robbers were wearing during the incident.\\n\\n\\nIf you have an Ad-blocker please disable it and reload the page or try again later.\\n\\n\\n\\nNation Media Group © 2022\\n\\n\\nWelcome!'"
      ]
     },
     "execution_count": 20,
     "metadata": {},
     "output_type": "execute_result"
    }
   ],
   "source": [
    "with open(filename) as f:\n",
    "    contents = f.read()\n",
    "    f.close()\n",
    "\n",
    "contents"
   ]
  },
  {
   "cell_type": "markdown",
   "id": "1578ba2b",
   "metadata": {},
   "source": [
    "## Tekenize the content"
   ]
  },
  {
   "cell_type": "code",
   "execution_count": 21,
   "id": "4e71f8cf",
   "metadata": {},
   "outputs": [],
   "source": [
    "from nltk.tokenize import word_tokenize\n"
   ]
  },
  {
   "cell_type": "code",
   "execution_count": 22,
   "id": "a0dfc300",
   "metadata": {},
   "outputs": [],
   "source": [
    "data = word_tokenize(contents.lower())"
   ]
  },
  {
   "cell_type": "markdown",
   "id": "8a2af411",
   "metadata": {},
   "source": [
    "### Remove stop words"
   ]
  },
  {
   "cell_type": "code",
   "execution_count": 23,
   "id": "73cbe2ff",
   "metadata": {},
   "outputs": [],
   "source": [
    "from nltk.corpus import stopwords"
   ]
  },
  {
   "cell_type": "code",
   "execution_count": 24,
   "id": "219d95ad",
   "metadata": {},
   "outputs": [],
   "source": [
    "english_stopwords = stopwords.words('english')\n",
    "t_data = [t for t in data if t not in english_stopwords]"
   ]
  },
  {
   "cell_type": "markdown",
   "id": "953f22e8",
   "metadata": {},
   "source": [
    "### Stem the words"
   ]
  },
  {
   "cell_type": "code",
   "execution_count": 25,
   "id": "9ead1bfb",
   "metadata": {},
   "outputs": [],
   "source": [
    "from nltk import PorterStemmer"
   ]
  },
  {
   "cell_type": "code",
   "execution_count": 26,
   "id": "585e64eb",
   "metadata": {},
   "outputs": [],
   "source": [
    "ps = PorterStemmer()\n",
    "token_data = [ps.stem(i) for i in t_data]"
   ]
  },
  {
   "cell_type": "code",
   "execution_count": 27,
   "id": "299db510",
   "metadata": {},
   "outputs": [
    {
     "data": {
      "text/plain": [
       "'veterinari offic vaccin chicken . vaccin help keep diseas bay enabl one produc safe meat egg . jecinta mwirigi livestock product specialist current indiscrimin use antibiot poultri product system rais safeti concern . avoid , farmer need appli good agricultur practic includ deploy bio-secur measur use recommend vaccin . : across world , poultri meat egg popular livestock product . poultri meat consumpt rose significantli 34.6 million metric tonn ( mt ) 1990 130 mt 2020 , accord food agricultur organ ( fao ) . 2022 , consumpt chicken meat , popular poultri product , expect hit 98 million mt , doubl volum eaten 1999 , organ econom cooper develop note latest report . less decad , add organis , chicken becom consum sourc anim protein . afford , worldwid product , low fat content religi cultur barrier thing contribut high prefer poultri product . howev , current indiscrimin use antimicrobi poultri product system rais safeti concern anim , human environ . main one anti-microbi resist ( amr ) . overcom challeng potenti wipe gain made poultri trade , farmer familiaris danger arbitrari applic antimicrobi . second , need know appli good agricultur practic ( gap ) curb use antimicrobi . includ deploy bio-secur measur use vaccin . other control extern intern parasit , proper hous feed environment hygien . regul also put place curb use antibiot prevent drug , growth promot egg product enhanc . amr occur microbes/germ bacteria , virus , fungi parasit chang time longer respond medicin , make infect harder treat increas risk diseas spread , sever ill death . main driver amr misus overus antimicrobi . , lack clean water , proper sanit inadequ diseas control promot spread drug resist disease-caus pathogen , current refer superbug . amr global health develop concern world health organ ( ) declar one top 10 global public health threat face human . misus overus antimicrobi chicken product common kenya . studi carri kiambu counti , whose find publish pubm journal januari 2021 , research fao , kenya ’ ministri agricultur colleg scienc makerer , uganda , investig challeng small-scal layer farm . found 62 per cent farmer constantli use antimicrobi , refer magic drug . includ tetracyclin tylosin . misus antibiot done treatment bird one flock ill use drug prevent diseas . studi show 47.5 per cent farmer heard withdraw period , impli continu sell consum meat egg trace drug use treat bird . , found farmer use antibiot growth promot egg booster . impli antibiot use throughout lifecycl bird . avoid misus antiobiot . includ put foot vehicl bath entri farm one poultri hous anoth control spread diseas farm farm , unit unit . footbath shallow trough disinfect kill germ feet wheel vehicl pass . import diseas control measur rare utilis . kiambu studi , research found 51 per cent respond footbath entranc layer hous . indic footbath , 51 per cent describ sponges/mat soak plain water ( without soap disinfect ) , 33 per cent mat soak disinfect , 13.4 per cent concret trough plain water 2.6 per cent ad disinfect concret trough . import tool control diseas perfectli , must broad-spectrum disinfect correct strength indic manufactur ’ label . chemic also chang regularli undergo bio-degrad time thu becom ineffect . possibl , instal trough seri initi one contain clean water remov dirt one next door disinfect . see , dirt dilut strength disinfect . ensur trough contain protect environment effect rainwat like dilut disinfect direct sunlight , evapor water necessit frequent addit . biosecur measur includ instal perimet fenc poultri farm hous use person protect equip ( ppe ) , regular clean disinfect feed water equip well regul human traffic poultri establish . vaccin abl transform tradit poultri keep thrive enterpris , attract peopl age incom offer agribusi . howev , diseas outbreak continu experienc among vaccin unvaccin bird despit high effect vaccin . lead use antimicrobi control diseas thu lead amr . vaccin work , do ’ ts : cold storag : alway use cool boxes/ic pack transport vaccin requir low temperatur . high percent coverag : ensur administ vaccin bird flock use appropri rout . exampl , wherea easi administ newcastl diseas ( ncd ) vaccin drink water layer broiler consum dri feed thu take lot water , advis administ ncd vaccin though eye nose rout free-rang unconfin bird might consum water within stipul time . constitut vaccin recommend amount water bird finish one hour . thereaft , add water . water reconstitut vaccin place cool environ high temperatur inactiv drug . hygien : vaccin handler ensur hand clean equip tool use vaccin administr also clean . administ vaccin earli morn late afternoon minimis handl weather stress . inject vaccin , use steril non-expir vaccin diluent issu manufactur drug . matur train personnel vaccin administr . vaccin administ drink water , withdraw water one hour provis vaccin water bird get thirsti . assist restrain bird administ vaccin appli drink water . vaccin schedul : diseas commonli control vaccin ncd , infecti bursal diseas ( gumboro ) , infecti bronchiti ( ib ) , fowl typhoid fowl pox . commerci produc normal issu vaccin schedul upon purchas chick , thu , need follow schedul judici effect vaccin . produc local/improv indigen chicken , like vaccin schedul includ administr gumboro day 10 booster day 18 ; ncd fowl pox three week fowl typhoid eight week . ncd booster administ six week , thereaft , everi 3-6 month depend diseas challeng area . earli ncd vaccin one combin ib . vaccin manufactur need produc vaccin pack 25 50 dose gumboro , fowl typhoid fowl pox , like case ncd . indigen bird farmer less 50 bird . use treat ( chlorin ) borehol water , salti reconstitut vaccin . instead , use rainwat nose , eye drop prepar instead administ drink water . vaccin stress bird show sign diseas . administ vaccin metal drinker like react vaccin dr mwirigi livestock product specialist . [ email protect ] come . alway look way improv stori . let us know like improv . earlier wednesday , sakaja accus presid kenyatta intimid cue withdraw recognit academ paper . rise polit star wednesday brink . polic recov televis set , sub-hoof item cloth robber wear incid . ad-block pleas disabl reload page tri later . nation media group © 2022 welcom !'"
      ]
     },
     "execution_count": 27,
     "metadata": {},
     "output_type": "execute_result"
    }
   ],
   "source": [
    "# Join tokenized words\n",
    "token_text = ' '.join([str(item) for item in token_data])\n",
    "token_text"
   ]
  },
  {
   "cell_type": "markdown",
   "id": "0f8a0855",
   "metadata": {},
   "source": [
    "## create dataframe with cthe text content"
   ]
  },
  {
   "cell_type": "code",
   "execution_count": 28,
   "id": "6c71cfe2",
   "metadata": {},
   "outputs": [
    {
     "data": {
      "text/html": [
       "<div>\n",
       "<style scoped>\n",
       "    .dataframe tbody tr th:only-of-type {\n",
       "        vertical-align: middle;\n",
       "    }\n",
       "\n",
       "    .dataframe tbody tr th {\n",
       "        vertical-align: top;\n",
       "    }\n",
       "\n",
       "    .dataframe thead th {\n",
       "        text-align: right;\n",
       "    }\n",
       "</style>\n",
       "<table border=\"1\" class=\"dataframe\">\n",
       "  <thead>\n",
       "    <tr style=\"text-align: right;\">\n",
       "      <th></th>\n",
       "      <th>text</th>\n",
       "      <th>title</th>\n",
       "    </tr>\n",
       "  </thead>\n",
       "  <tbody>\n",
       "    <tr>\n",
       "      <th>0</th>\n",
       "      <td>veterinari offic vaccin chicken . vaccin help ...</td>\n",
       "      <td>None</td>\n",
       "    </tr>\n",
       "  </tbody>\n",
       "</table>\n",
       "</div>"
      ],
      "text/plain": [
       "                                                text title\n",
       "0  veterinari offic vaccin chicken . vaccin help ...  None"
      ]
     },
     "execution_count": 28,
     "metadata": {},
     "output_type": "execute_result"
    }
   ],
   "source": [
    "data = {'text': token_text,\n",
    "       'title': None}\n",
    " \n",
    "# Create DataFrame\n",
    "df = pd.DataFrame(data, index= [0])\n",
    "df"
   ]
  },
  {
   "cell_type": "code",
   "execution_count": 29,
   "id": "c9f007b4",
   "metadata": {},
   "outputs": [
    {
     "data": {
      "text/html": [
       "<div>\n",
       "<style scoped>\n",
       "    .dataframe tbody tr th:only-of-type {\n",
       "        vertical-align: middle;\n",
       "    }\n",
       "\n",
       "    .dataframe tbody tr th {\n",
       "        vertical-align: top;\n",
       "    }\n",
       "\n",
       "    .dataframe thead th {\n",
       "        text-align: right;\n",
       "    }\n",
       "</style>\n",
       "<table border=\"1\" class=\"dataframe\">\n",
       "  <thead>\n",
       "    <tr style=\"text-align: right;\">\n",
       "      <th></th>\n",
       "      <th>text</th>\n",
       "      <th>title</th>\n",
       "    </tr>\n",
       "  </thead>\n",
       "  <tbody>\n",
       "    <tr>\n",
       "      <th>0</th>\n",
       "      <td>veterinari offic vaccin chicken . vaccin help ...</td>\n",
       "      <td>None</td>\n",
       "    </tr>\n",
       "  </tbody>\n",
       "</table>\n",
       "</div>"
      ],
      "text/plain": [
       "                                                text title\n",
       "0  veterinari offic vaccin chicken . vaccin help ...  None"
      ]
     },
     "execution_count": 29,
     "metadata": {},
     "output_type": "execute_result"
    }
   ],
   "source": [
    "df"
   ]
  },
  {
   "cell_type": "code",
   "execution_count": 30,
   "id": "518756ac",
   "metadata": {},
   "outputs": [],
   "source": [
    "ndf = pd.DataFrame(np.repeat(df.values, 3, axis=0))\n",
    "ndf.columns = df.columns"
   ]
  },
  {
   "cell_type": "markdown",
   "id": "352c176f",
   "metadata": {},
   "source": [
    "## Save dataframe in a file"
   ]
  },
  {
   "cell_type": "code",
   "execution_count": 31,
   "id": "e6da2ff4",
   "metadata": {},
   "outputs": [],
   "source": [
    "# save df in file\n",
    "ndf.to_csv('predicting.csv')"
   ]
  },
  {
   "cell_type": "code",
   "execution_count": 32,
   "id": "348f599a",
   "metadata": {},
   "outputs": [
    {
     "data": {
      "text/html": [
       "<div>\n",
       "<style scoped>\n",
       "    .dataframe tbody tr th:only-of-type {\n",
       "        vertical-align: middle;\n",
       "    }\n",
       "\n",
       "    .dataframe tbody tr th {\n",
       "        vertical-align: top;\n",
       "    }\n",
       "\n",
       "    .dataframe thead th {\n",
       "        text-align: right;\n",
       "    }\n",
       "</style>\n",
       "<table border=\"1\" class=\"dataframe\">\n",
       "  <thead>\n",
       "    <tr style=\"text-align: right;\">\n",
       "      <th></th>\n",
       "      <th>text</th>\n",
       "      <th>title</th>\n",
       "    </tr>\n",
       "  </thead>\n",
       "  <tbody>\n",
       "    <tr>\n",
       "      <th>0</th>\n",
       "      <td>veterinari offic vaccin chicken . vaccin help ...</td>\n",
       "      <td>None</td>\n",
       "    </tr>\n",
       "    <tr>\n",
       "      <th>1</th>\n",
       "      <td>veterinari offic vaccin chicken . vaccin help ...</td>\n",
       "      <td>None</td>\n",
       "    </tr>\n",
       "    <tr>\n",
       "      <th>2</th>\n",
       "      <td>veterinari offic vaccin chicken . vaccin help ...</td>\n",
       "      <td>None</td>\n",
       "    </tr>\n",
       "  </tbody>\n",
       "</table>\n",
       "</div>"
      ],
      "text/plain": [
       "                                                text title\n",
       "0  veterinari offic vaccin chicken . vaccin help ...  None\n",
       "1  veterinari offic vaccin chicken . vaccin help ...  None\n",
       "2  veterinari offic vaccin chicken . vaccin help ...  None"
      ]
     },
     "execution_count": 32,
     "metadata": {},
     "output_type": "execute_result"
    }
   ],
   "source": [
    "ndf"
   ]
  },
  {
   "cell_type": "code",
   "execution_count": null,
   "id": "49ec368f",
   "metadata": {},
   "outputs": [],
   "source": []
  },
  {
   "cell_type": "code",
   "execution_count": null,
   "id": "4862c213",
   "metadata": {},
   "outputs": [],
   "source": []
  }
 ],
 "metadata": {
  "kernelspec": {
   "display_name": "Python 3 (ipykernel)",
   "language": "python",
   "name": "python3"
  },
  "language_info": {
   "codemirror_mode": {
    "name": "ipython",
    "version": 3
   },
   "file_extension": ".py",
   "mimetype": "text/x-python",
   "name": "python",
   "nbconvert_exporter": "python",
   "pygments_lexer": "ipython3",
   "version": "3.8.5"
  }
 },
 "nbformat": 4,
 "nbformat_minor": 5
}
