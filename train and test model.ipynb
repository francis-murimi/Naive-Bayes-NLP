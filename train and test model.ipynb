{
 "cells": [
  {
   "cell_type": "code",
   "execution_count": 1,
   "id": "38bd8daa",
   "metadata": {},
   "outputs": [],
   "source": [
    "import math\n",
    "import random\n",
    "from collections import defaultdict\n",
    "from pprint import pprint"
   ]
  },
  {
   "cell_type": "code",
   "execution_count": 2,
   "id": "1420f7ae",
   "metadata": {},
   "outputs": [],
   "source": [
    "# Prevent future/deprecation warnings from showing in output\n",
    "import warnings\n",
    "warnings.filterwarnings(action='ignore')"
   ]
  },
  {
   "cell_type": "code",
   "execution_count": 3,
   "id": "9b65e18e",
   "metadata": {},
   "outputs": [],
   "source": [
    "import seaborn as sns\n",
    "import matplotlib.pyplot as plt\n",
    "import numpy as np\n",
    "import pandas as pd"
   ]
  },
  {
   "cell_type": "code",
   "execution_count": 4,
   "id": "1607d3c6",
   "metadata": {},
   "outputs": [],
   "source": [
    "sns.set_style(style='white')\n",
    "sns.set_context(context='notebook', font_scale=1.3, rc={'figure.figsize': (16,9)})"
   ]
  },
  {
   "cell_type": "code",
   "execution_count": 33,
   "id": "ea06c95b",
   "metadata": {},
   "outputs": [
    {
     "data": {
      "text/html": [
       "<div>\n",
       "<style scoped>\n",
       "    .dataframe tbody tr th:only-of-type {\n",
       "        vertical-align: middle;\n",
       "    }\n",
       "\n",
       "    .dataframe tbody tr th {\n",
       "        vertical-align: top;\n",
       "    }\n",
       "\n",
       "    .dataframe thead th {\n",
       "        text-align: right;\n",
       "    }\n",
       "</style>\n",
       "<table border=\"1\" class=\"dataframe\">\n",
       "  <thead>\n",
       "    <tr style=\"text-align: right;\">\n",
       "      <th></th>\n",
       "      <th>Unnamed: 0</th>\n",
       "      <th>title</th>\n",
       "      <th>text</th>\n",
       "    </tr>\n",
       "  </thead>\n",
       "  <tbody>\n",
       "    <tr>\n",
       "      <th>0</th>\n",
       "      <td>0</td>\n",
       "      <td>0</td>\n",
       "      <td>caffein addict caus peopl becom irrit moodi wh...</td>\n",
       "    </tr>\n",
       "    <tr>\n",
       "      <th>1</th>\n",
       "      <td>1</td>\n",
       "      <td>1</td>\n",
       "      <td>avocado versatil fruit that eaten savouri swee...</td>\n",
       "    </tr>\n",
       "    <tr>\n",
       "      <th>2</th>\n",
       "      <td>2</td>\n",
       "      <td>1</td>\n",
       "      <td>editor will review what submit determin whethe...</td>\n",
       "    </tr>\n",
       "    <tr>\n",
       "      <th>3</th>\n",
       "      <td>3</td>\n",
       "      <td>0</td>\n",
       "      <td>famili member rel passeng board twin otter air...</td>\n",
       "    </tr>\n",
       "    <tr>\n",
       "      <th>4</th>\n",
       "      <td>4</td>\n",
       "      <td>0</td>\n",
       "      <td>kenya digit economi expect gener percent total...</td>\n",
       "    </tr>\n",
       "    <tr>\n",
       "      <th>...</th>\n",
       "      <td>...</td>\n",
       "      <td>...</td>\n",
       "      <td>...</td>\n",
       "    </tr>\n",
       "    <tr>\n",
       "      <th>208</th>\n",
       "      <td>208</td>\n",
       "      <td>0</td>\n",
       "      <td>shokupan japanes bakeri sarit center photo wen...</td>\n",
       "    </tr>\n",
       "    <tr>\n",
       "      <th>209</th>\n",
       "      <td>209</td>\n",
       "      <td>1</td>\n",
       "      <td>infospac ultim inform space thi avocado farm k...</td>\n",
       "    </tr>\n",
       "    <tr>\n",
       "      <th>210</th>\n",
       "      <td>210</td>\n",
       "      <td>1</td>\n",
       "      <td>editor will review what submit determin whethe...</td>\n",
       "    </tr>\n",
       "    <tr>\n",
       "      <th>211</th>\n",
       "      <td>211</td>\n",
       "      <td>0</td>\n",
       "      <td>kenya abel kipsang lead pack dure event dure i...</td>\n",
       "    </tr>\n",
       "    <tr>\n",
       "      <th>212</th>\n",
       "      <td>212</td>\n",
       "      <td>1</td>\n",
       "      <td>farm veget farm fruit farm livestock farm vide...</td>\n",
       "    </tr>\n",
       "  </tbody>\n",
       "</table>\n",
       "<p>213 rows × 3 columns</p>\n",
       "</div>"
      ],
      "text/plain": [
       "     Unnamed: 0  title                                               text\n",
       "0             0      0  caffein addict caus peopl becom irrit moodi wh...\n",
       "1             1      1  avocado versatil fruit that eaten savouri swee...\n",
       "2             2      1  editor will review what submit determin whethe...\n",
       "3             3      0  famili member rel passeng board twin otter air...\n",
       "4             4      0  kenya digit economi expect gener percent total...\n",
       "..          ...    ...                                                ...\n",
       "208         208      0  shokupan japanes bakeri sarit center photo wen...\n",
       "209         209      1  infospac ultim inform space thi avocado farm k...\n",
       "210         210      1  editor will review what submit determin whethe...\n",
       "211         211      0  kenya abel kipsang lead pack dure event dure i...\n",
       "212         212      1  farm veget farm fruit farm livestock farm vide...\n",
       "\n",
       "[213 rows x 3 columns]"
      ]
     },
     "execution_count": 33,
     "metadata": {},
     "output_type": "execute_result"
    }
   ],
   "source": [
    "# read cleaned data from file\n",
    "df = pd.read_csv('clean.csv')\n",
    "df"
   ]
  },
  {
   "cell_type": "markdown",
   "id": "a284d3a6",
   "metadata": {},
   "source": [
    "## Split dataset to training and testing data"
   ]
  },
  {
   "cell_type": "code",
   "execution_count": 34,
   "id": "0b3e856b",
   "metadata": {},
   "outputs": [],
   "source": [
    "from sklearn.model_selection import train_test_split"
   ]
  },
  {
   "cell_type": "code",
   "execution_count": 35,
   "id": "daf1bd88",
   "metadata": {},
   "outputs": [],
   "source": [
    "X = df.text\n",
    "y = df.title\n",
    "X_train, X_test, y_train, y_test = train_test_split(X, y, test_size=0.30)"
   ]
  },
  {
   "cell_type": "markdown",
   "id": "fac10ef6",
   "metadata": {},
   "source": [
    "## Exctract features from the dataset text"
   ]
  },
  {
   "cell_type": "code",
   "execution_count": 36,
   "id": "effa682e",
   "metadata": {},
   "outputs": [],
   "source": [
    "from sklearn.feature_extraction.text import CountVectorizer"
   ]
  },
  {
   "cell_type": "code",
   "execution_count": 37,
   "id": "10e4491e",
   "metadata": {},
   "outputs": [],
   "source": [
    "#max_features=2000,\n",
    "#vect = CountVectorizer(max_features=2000, binary=True)\n",
    "vect = CountVectorizer(binary=False,max_features=3500,min_df=2,max_df=0.5)\n",
    "\n",
    "X_train_vect = vect.fit_transform(X_train)"
   ]
  },
  {
   "cell_type": "markdown",
   "id": "6d07c913",
   "metadata": {},
   "source": [
    "## Examine accuracy of the extracted features "
   ]
  },
  {
   "cell_type": "code",
   "execution_count": 38,
   "id": "61ad8e2b",
   "metadata": {},
   "outputs": [
    {
     "name": "stdout",
     "output_type": "stream",
     "text": [
      "1    110\n",
      "0    103\n",
      "Name: title, dtype: int64\n",
      "\n",
      "Predicting only 0 = 48.36% accuracy\n",
      "\n",
      "Predicting only 1 = 51.64% accuracy\n"
     ]
    }
   ],
   "source": [
    "counts = df.title.value_counts()\n",
    "print(counts)\n",
    "\n",
    "print(\"\\nPredicting only 0 = {:.2f}% accuracy\".format(counts[0] / sum(counts) * 100))\n",
    "print(\"\\nPredicting only 1 = {:.2f}% accuracy\".format(counts[1] / sum(counts) * 100))"
   ]
  },
  {
   "cell_type": "markdown",
   "id": "330671c6",
   "metadata": {},
   "source": [
    "# MultinomialNB"
   ]
  },
  {
   "cell_type": "code",
   "execution_count": 39,
   "id": "db4f4b46",
   "metadata": {},
   "outputs": [],
   "source": [
    "from sklearn.naive_bayes import MultinomialNB"
   ]
  },
  {
   "cell_type": "markdown",
   "id": "1cd36109",
   "metadata": {},
   "source": [
    "## Train the model"
   ]
  },
  {
   "cell_type": "code",
   "execution_count": 40,
   "id": "4d013494",
   "metadata": {},
   "outputs": [
    {
     "data": {
      "text/plain": [
       "1.0"
      ]
     },
     "execution_count": 40,
     "metadata": {},
     "output_type": "execute_result"
    }
   ],
   "source": [
    "nb = MultinomialNB()\n",
    "\n",
    "nb.fit(X_train_vect, y_train)\n",
    "\n",
    "nb.score(X_train_vect, y_train)"
   ]
  },
  {
   "cell_type": "markdown",
   "id": "9d177249",
   "metadata": {},
   "source": [
    "## Test the model"
   ]
  },
  {
   "cell_type": "code",
   "execution_count": 41,
   "id": "57ef294c",
   "metadata": {},
   "outputs": [
    {
     "data": {
      "text/plain": [
       "array([1, 1, 1, 0, 1, 1, 0, 1, 1, 1, 1, 1, 0, 0, 0, 1, 0, 1, 1, 0, 0, 0,\n",
       "       0, 0, 1, 1, 0, 0, 0, 0, 1, 0, 0, 0, 1, 1, 0, 1, 1, 0, 0, 1, 1, 1,\n",
       "       0, 0, 1, 0, 0, 0, 1, 1, 1, 0, 1, 1, 0, 0, 1, 0, 1, 1, 1, 1],\n",
       "      dtype=int64)"
      ]
     },
     "execution_count": 41,
     "metadata": {},
     "output_type": "execute_result"
    }
   ],
   "source": [
    "X_test_vect = vect.transform(X_test)\n",
    "\n",
    "y_pred = nb.predict(X_test_vect)\n",
    "\n",
    "y_pred"
   ]
  },
  {
   "cell_type": "markdown",
   "id": "cf922ce9",
   "metadata": {},
   "source": [
    "## Inspect the model performance"
   ]
  },
  {
   "cell_type": "code",
   "execution_count": 42,
   "id": "1ad153ef",
   "metadata": {},
   "outputs": [],
   "source": [
    "from sklearn.metrics import accuracy_score, f1_score, confusion_matrix"
   ]
  },
  {
   "cell_type": "code",
   "execution_count": 43,
   "id": "5b647c57",
   "metadata": {},
   "outputs": [
    {
     "name": "stdout",
     "output_type": "stream",
     "text": [
      "Accuracy: 100.00%\n",
      "\n",
      "F1 Score: 100.00\n",
      "\n",
      "COnfusion Matrix:\n",
      " [[30  0]\n",
      " [ 0 34]]\n"
     ]
    }
   ],
   "source": [
    "print(\"Accuracy: {:.2f}%\".format(accuracy_score(y_test, y_pred) * 100))\n",
    "print(\"\\nF1 Score: {:.2f}\".format(f1_score(y_test, y_pred) * 100))\n",
    "print(\"\\nCOnfusion Matrix:\\n\", confusion_matrix(y_test, y_pred))"
   ]
  },
  {
   "cell_type": "markdown",
   "id": "0839c9c4",
   "metadata": {},
   "source": [
    "## save model"
   ]
  },
  {
   "cell_type": "code",
   "execution_count": 44,
   "id": "5f01b5f1",
   "metadata": {},
   "outputs": [],
   "source": [
    "from joblib import dump, load"
   ]
  },
  {
   "cell_type": "code",
   "execution_count": 45,
   "id": "a7caec55",
   "metadata": {},
   "outputs": [
    {
     "data": {
      "text/plain": [
       "['newnbmodel.joblib']"
      ]
     },
     "execution_count": 45,
     "metadata": {},
     "output_type": "execute_result"
    }
   ],
   "source": [
    "dump(nb, 'newnbmodel.joblib')"
   ]
  },
  {
   "cell_type": "markdown",
   "id": "028f3c63",
   "metadata": {},
   "source": [
    "## load model and use it"
   ]
  },
  {
   "cell_type": "code",
   "execution_count": 46,
   "id": "9deee93d",
   "metadata": {},
   "outputs": [],
   "source": [
    "my_nb = load('nbmodel.joblib')"
   ]
  },
  {
   "cell_type": "markdown",
   "id": "821be63a",
   "metadata": {},
   "source": [
    "# Use model to classify new input"
   ]
  },
  {
   "cell_type": "code",
   "execution_count": 19,
   "id": "c600c0bc",
   "metadata": {},
   "outputs": [
    {
     "data": {
      "text/html": [
       "<div>\n",
       "<style scoped>\n",
       "    .dataframe tbody tr th:only-of-type {\n",
       "        vertical-align: middle;\n",
       "    }\n",
       "\n",
       "    .dataframe tbody tr th {\n",
       "        vertical-align: top;\n",
       "    }\n",
       "\n",
       "    .dataframe thead th {\n",
       "        text-align: right;\n",
       "    }\n",
       "</style>\n",
       "<table border=\"1\" class=\"dataframe\">\n",
       "  <thead>\n",
       "    <tr style=\"text-align: right;\">\n",
       "      <th></th>\n",
       "      <th>Unnamed: 0</th>\n",
       "      <th>text</th>\n",
       "      <th>title</th>\n",
       "    </tr>\n",
       "  </thead>\n",
       "  <tbody>\n",
       "    <tr>\n",
       "      <th>0</th>\n",
       "      <td>0</td>\n",
       "      <td>veterinari offic vaccin chicken . vaccin help ...</td>\n",
       "      <td>NaN</td>\n",
       "    </tr>\n",
       "    <tr>\n",
       "      <th>1</th>\n",
       "      <td>1</td>\n",
       "      <td>veterinari offic vaccin chicken . vaccin help ...</td>\n",
       "      <td>NaN</td>\n",
       "    </tr>\n",
       "    <tr>\n",
       "      <th>2</th>\n",
       "      <td>2</td>\n",
       "      <td>veterinari offic vaccin chicken . vaccin help ...</td>\n",
       "      <td>NaN</td>\n",
       "    </tr>\n",
       "  </tbody>\n",
       "</table>\n",
       "</div>"
      ],
      "text/plain": [
       "   Unnamed: 0                                               text  title\n",
       "0           0  veterinari offic vaccin chicken . vaccin help ...    NaN\n",
       "1           1  veterinari offic vaccin chicken . vaccin help ...    NaN\n",
       "2           2  veterinari offic vaccin chicken . vaccin help ...    NaN"
      ]
     },
     "execution_count": 19,
     "metadata": {},
     "output_type": "execute_result"
    }
   ],
   "source": [
    "predictingd = pd.read_csv('predicting.csv')\n",
    "predictingd"
   ]
  },
  {
   "cell_type": "code",
   "execution_count": 20,
   "id": "66ae32cc",
   "metadata": {},
   "outputs": [],
   "source": [
    "A = predictingd.text\n",
    "b = predictingd.title\n",
    "A_train, A_test, b_train, b_test = train_test_split(A, b, test_size=0.30)"
   ]
  },
  {
   "cell_type": "code",
   "execution_count": 21,
   "id": "1622686e",
   "metadata": {},
   "outputs": [],
   "source": [
    "A_test_vect = vect.transform(A_test)"
   ]
  },
  {
   "cell_type": "markdown",
   "id": "1b9907b1",
   "metadata": {},
   "source": [
    "## Predict"
   ]
  },
  {
   "cell_type": "code",
   "execution_count": 26,
   "id": "9eefdfd8",
   "metadata": {},
   "outputs": [
    {
     "data": {
      "text/plain": [
       "array([1], dtype=int64)"
      ]
     },
     "execution_count": 26,
     "metadata": {},
     "output_type": "execute_result"
    }
   ],
   "source": [
    "b_pred = nb.predict(A_test_vect)\n",
    "b_pred"
   ]
  },
  {
   "cell_type": "markdown",
   "id": "7f11cb1e",
   "metadata": {},
   "source": [
    "## Using loaded model"
   ]
  },
  {
   "cell_type": "code",
   "execution_count": 23,
   "id": "126a60d3",
   "metadata": {},
   "outputs": [],
   "source": [
    "my_pred = my_nb.predict(A_test_vect[0:1])"
   ]
  },
  {
   "cell_type": "code",
   "execution_count": 27,
   "id": "aba828eb",
   "metadata": {},
   "outputs": [
    {
     "data": {
      "text/plain": [
       "array([1], dtype=int64)"
      ]
     },
     "execution_count": 27,
     "metadata": {},
     "output_type": "execute_result"
    }
   ],
   "source": [
    "my_pred"
   ]
  },
  {
   "cell_type": "code",
   "execution_count": 28,
   "id": "a99cf122",
   "metadata": {},
   "outputs": [
    {
     "name": "stdout",
     "output_type": "stream",
     "text": [
      "Agriculture\n"
     ]
    }
   ],
   "source": [
    "if my_pred == 1:\n",
    "    print('Agriculture')\n",
    "else:\n",
    "    print('Not agriculture')"
   ]
  },
  {
   "cell_type": "code",
   "execution_count": null,
   "id": "88433f50",
   "metadata": {},
   "outputs": [],
   "source": []
  }
 ],
 "metadata": {
  "kernelspec": {
   "display_name": "Python 3 (ipykernel)",
   "language": "python",
   "name": "python3"
  },
  "language_info": {
   "codemirror_mode": {
    "name": "ipython",
    "version": 3
   },
   "file_extension": ".py",
   "mimetype": "text/x-python",
   "name": "python",
   "nbconvert_exporter": "python",
   "pygments_lexer": "ipython3",
   "version": "3.8.5"
  }
 },
 "nbformat": 4,
 "nbformat_minor": 5
}
