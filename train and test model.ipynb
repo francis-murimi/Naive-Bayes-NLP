{
 "cells": [
  {
   "cell_type": "code",
   "execution_count": 1,
   "id": "96d68844",
   "metadata": {},
   "outputs": [],
   "source": [
    "import math\n",
    "import random\n",
    "from collections import defaultdict\n",
    "from pprint import pprint"
   ]
  },
  {
   "cell_type": "code",
   "execution_count": 2,
   "id": "6c21d6df",
   "metadata": {},
   "outputs": [],
   "source": [
    "# Prevent future/deprecation warnings from showing in output\n",
    "import warnings\n",
    "warnings.filterwarnings(action='ignore')"
   ]
  },
  {
   "cell_type": "code",
   "execution_count": 3,
   "id": "bc97e0bb",
   "metadata": {},
   "outputs": [],
   "source": [
    "import seaborn as sns\n",
    "import matplotlib.pyplot as plt\n",
    "import numpy as np\n",
    "import pandas as pd"
   ]
  },
  {
   "cell_type": "code",
   "execution_count": 4,
   "id": "9f34b298",
   "metadata": {},
   "outputs": [],
   "source": [
    "sns.set_style(style='white')\n",
    "sns.set_context(context='notebook', font_scale=1.3, rc={'figure.figsize': (16,9)})"
   ]
  },
  {
   "cell_type": "code",
   "execution_count": 6,
   "id": "6fcdee5c",
   "metadata": {},
   "outputs": [
    {
     "data": {
      "text/html": [
       "<div>\n",
       "<style scoped>\n",
       "    .dataframe tbody tr th:only-of-type {\n",
       "        vertical-align: middle;\n",
       "    }\n",
       "\n",
       "    .dataframe tbody tr th {\n",
       "        vertical-align: top;\n",
       "    }\n",
       "\n",
       "    .dataframe thead th {\n",
       "        text-align: right;\n",
       "    }\n",
       "</style>\n",
       "<table border=\"1\" class=\"dataframe\">\n",
       "  <thead>\n",
       "    <tr style=\"text-align: right;\">\n",
       "      <th></th>\n",
       "      <th>Unnamed: 0</th>\n",
       "      <th>title</th>\n",
       "      <th>text</th>\n",
       "    </tr>\n",
       "  </thead>\n",
       "  <tbody>\n",
       "    <tr>\n",
       "      <th>0</th>\n",
       "      <td>0</td>\n",
       "      <td>0</td>\n",
       "      <td>from left charl nasieku nation vice chair bahl...</td>\n",
       "    </tr>\n",
       "    <tr>\n",
       "      <th>1</th>\n",
       "      <td>1</td>\n",
       "      <td>1</td>\n",
       "      <td>editor will review what submit determin whethe...</td>\n",
       "    </tr>\n",
       "    <tr>\n",
       "      <th>2</th>\n",
       "      <td>2</td>\n",
       "      <td>0</td>\n",
       "      <td>vaccin most import invent field medicin fiona ...</td>\n",
       "    </tr>\n",
       "    <tr>\n",
       "      <th>3</th>\n",
       "      <td>3</td>\n",
       "      <td>0</td>\n",
       "      <td>wanjiku kibe faith muiruri ann wanjiku kibe ro...</td>\n",
       "    </tr>\n",
       "    <tr>\n",
       "      <th>4</th>\n",
       "      <td>4</td>\n",
       "      <td>0</td>\n",
       "      <td>have lost subscrib first time more than decad ...</td>\n",
       "    </tr>\n",
       "    <tr>\n",
       "      <th>...</th>\n",
       "      <td>...</td>\n",
       "      <td>...</td>\n",
       "      <td>...</td>\n",
       "    </tr>\n",
       "    <tr>\n",
       "      <th>206</th>\n",
       "      <td>206</td>\n",
       "      <td>1</td>\n",
       "      <td>time begin farm journey onli heifer need money...</td>\n",
       "    </tr>\n",
       "    <tr>\n",
       "      <th>207</th>\n",
       "      <td>207</td>\n",
       "      <td>1</td>\n",
       "      <td>infospac ultim inform space thi profit banana ...</td>\n",
       "    </tr>\n",
       "    <tr>\n",
       "      <th>208</th>\n",
       "      <td>208</td>\n",
       "      <td>0</td>\n",
       "      <td>kenya polic clifton miheso right celebr goal a...</td>\n",
       "    </tr>\n",
       "    <tr>\n",
       "      <th>209</th>\n",
       "      <td>209</td>\n",
       "      <td>0</td>\n",
       "      <td>simon mburu want avoid prostat cancer have wit...</td>\n",
       "    </tr>\n",
       "    <tr>\n",
       "      <th>210</th>\n",
       "      <td>210</td>\n",
       "      <td>1</td>\n",
       "      <td>farm veget farm fruit farm livestock farm vide...</td>\n",
       "    </tr>\n",
       "  </tbody>\n",
       "</table>\n",
       "<p>211 rows × 3 columns</p>\n",
       "</div>"
      ],
      "text/plain": [
       "     Unnamed: 0  title                                               text\n",
       "0             0      0  from left charl nasieku nation vice chair bahl...\n",
       "1             1      1  editor will review what submit determin whethe...\n",
       "2             2      0  vaccin most import invent field medicin fiona ...\n",
       "3             3      0  wanjiku kibe faith muiruri ann wanjiku kibe ro...\n",
       "4             4      0  have lost subscrib first time more than decad ...\n",
       "..          ...    ...                                                ...\n",
       "206         206      1  time begin farm journey onli heifer need money...\n",
       "207         207      1  infospac ultim inform space thi profit banana ...\n",
       "208         208      0  kenya polic clifton miheso right celebr goal a...\n",
       "209         209      0  simon mburu want avoid prostat cancer have wit...\n",
       "210         210      1  farm veget farm fruit farm livestock farm vide...\n",
       "\n",
       "[211 rows x 3 columns]"
      ]
     },
     "execution_count": 6,
     "metadata": {},
     "output_type": "execute_result"
    }
   ],
   "source": [
    "# read cleaned data from file\n",
    "df = pd.read_csv('clean.csv')\n",
    "df"
   ]
  },
  {
   "cell_type": "markdown",
   "id": "71b4e5e0",
   "metadata": {},
   "source": [
    "## Split dataset to training and testing data"
   ]
  },
  {
   "cell_type": "code",
   "execution_count": 7,
   "id": "0aaf01f8",
   "metadata": {},
   "outputs": [],
   "source": [
    "from sklearn.model_selection import train_test_split"
   ]
  },
  {
   "cell_type": "code",
   "execution_count": 8,
   "id": "9179bf84",
   "metadata": {},
   "outputs": [],
   "source": [
    "X = df.text\n",
    "y = df.title\n",
    "X_train, X_test, y_train, y_test = train_test_split(X, y, test_size=0.30)"
   ]
  },
  {
   "cell_type": "markdown",
   "id": "92979142",
   "metadata": {},
   "source": [
    "## Exctract features from the dataset text"
   ]
  },
  {
   "cell_type": "code",
   "execution_count": 10,
   "id": "c5221cd3",
   "metadata": {},
   "outputs": [],
   "source": [
    "from sklearn.feature_extraction.text import CountVectorizer"
   ]
  },
  {
   "cell_type": "code",
   "execution_count": 11,
   "id": "d92a0134",
   "metadata": {},
   "outputs": [],
   "source": [
    "#max_features=2000,\n",
    "#vect = CountVectorizer(max_features=2000, binary=True)\n",
    "vect = CountVectorizer(binary=True,max_features=2000)\n",
    "\n",
    "X_train_vect = vect.fit_transform(X_train)"
   ]
  },
  {
   "cell_type": "markdown",
   "id": "dabeab51",
   "metadata": {},
   "source": [
    "## Examine accuracy of the extracted features "
   ]
  },
  {
   "cell_type": "code",
   "execution_count": 13,
   "id": "2c27b70f",
   "metadata": {},
   "outputs": [
    {
     "name": "stdout",
     "output_type": "stream",
     "text": [
      "1    109\n",
      "0    102\n",
      "Name: title, dtype: int64\n",
      "\n",
      "Predicting only 0 = 48.34% accuracy\n",
      "\n",
      "Predicting only 1 = 51.66% accuracy\n"
     ]
    }
   ],
   "source": [
    "counts = df.title.value_counts()\n",
    "print(counts)\n",
    "\n",
    "print(\"\\nPredicting only 0 = {:.2f}% accuracy\".format(counts[0] / sum(counts) * 100))\n",
    "print(\"\\nPredicting only 1 = {:.2f}% accuracy\".format(counts[1] / sum(counts) * 100))"
   ]
  },
  {
   "cell_type": "markdown",
   "id": "9d850be3",
   "metadata": {},
   "source": [
    "# MultinomialNB"
   ]
  },
  {
   "cell_type": "code",
   "execution_count": 14,
   "id": "b880faaa",
   "metadata": {},
   "outputs": [],
   "source": [
    "from sklearn.naive_bayes import MultinomialNB"
   ]
  },
  {
   "cell_type": "markdown",
   "id": "af90b16f",
   "metadata": {},
   "source": [
    "## Train the model"
   ]
  },
  {
   "cell_type": "code",
   "execution_count": 15,
   "id": "0170919c",
   "metadata": {},
   "outputs": [
    {
     "data": {
      "text/plain": [
       "0.9931972789115646"
      ]
     },
     "execution_count": 15,
     "metadata": {},
     "output_type": "execute_result"
    }
   ],
   "source": [
    "nb = MultinomialNB()\n",
    "\n",
    "nb.fit(X_train_vect, y_train)\n",
    "\n",
    "nb.score(X_train_vect, y_train)"
   ]
  },
  {
   "cell_type": "markdown",
   "id": "00668d4f",
   "metadata": {},
   "source": [
    "## Test the model"
   ]
  },
  {
   "cell_type": "code",
   "execution_count": 16,
   "id": "389333a3",
   "metadata": {},
   "outputs": [
    {
     "data": {
      "text/plain": [
       "array([0, 1, 1, 0, 0, 0, 0, 1, 1, 1, 0, 1, 1, 1, 0, 0, 1, 0, 0, 1, 1, 1,\n",
       "       0, 1, 1, 1, 0, 1, 0, 0, 0, 1, 0, 0, 1, 0, 1, 1, 1, 0, 0, 1, 1, 1,\n",
       "       1, 0, 0, 0, 0, 0, 1, 0, 1, 0, 1, 0, 0, 0, 0, 0, 1, 0, 0, 0],\n",
       "      dtype=int64)"
      ]
     },
     "execution_count": 16,
     "metadata": {},
     "output_type": "execute_result"
    }
   ],
   "source": [
    "X_test_vect = vect.transform(X_test)\n",
    "\n",
    "y_pred = nb.predict(X_test_vect)\n",
    "\n",
    "y_pred"
   ]
  },
  {
   "cell_type": "markdown",
   "id": "769ce2ed",
   "metadata": {},
   "source": [
    "## Inspect the model performance"
   ]
  },
  {
   "cell_type": "code",
   "execution_count": 18,
   "id": "75c9082e",
   "metadata": {},
   "outputs": [],
   "source": [
    "from sklearn.metrics import accuracy_score, f1_score, confusion_matrix"
   ]
  },
  {
   "cell_type": "code",
   "execution_count": 19,
   "id": "f06c4d3b",
   "metadata": {},
   "outputs": [
    {
     "name": "stdout",
     "output_type": "stream",
     "text": [
      "Accuracy: 98.44%\n",
      "\n",
      "F1 Score: 98.31\n",
      "\n",
      "COnfusion Matrix:\n",
      " [[34  0]\n",
      " [ 1 29]]\n"
     ]
    }
   ],
   "source": [
    "print(\"Accuracy: {:.2f}%\".format(accuracy_score(y_test, y_pred) * 100))\n",
    "print(\"\\nF1 Score: {:.2f}\".format(f1_score(y_test, y_pred) * 100))\n",
    "print(\"\\nCOnfusion Matrix:\\n\", confusion_matrix(y_test, y_pred))"
   ]
  },
  {
   "cell_type": "markdown",
   "id": "a6a207ad",
   "metadata": {},
   "source": [
    "# Use model to classify new input"
   ]
  },
  {
   "cell_type": "code",
   "execution_count": 30,
   "id": "3fa88640",
   "metadata": {},
   "outputs": [
    {
     "data": {
      "text/html": [
       "<div>\n",
       "<style scoped>\n",
       "    .dataframe tbody tr th:only-of-type {\n",
       "        vertical-align: middle;\n",
       "    }\n",
       "\n",
       "    .dataframe tbody tr th {\n",
       "        vertical-align: top;\n",
       "    }\n",
       "\n",
       "    .dataframe thead th {\n",
       "        text-align: right;\n",
       "    }\n",
       "</style>\n",
       "<table border=\"1\" class=\"dataframe\">\n",
       "  <thead>\n",
       "    <tr style=\"text-align: right;\">\n",
       "      <th></th>\n",
       "      <th>Unnamed: 0</th>\n",
       "      <th>text</th>\n",
       "      <th>title</th>\n",
       "    </tr>\n",
       "  </thead>\n",
       "  <tbody>\n",
       "    <tr>\n",
       "      <th>0</th>\n",
       "      <td>0</td>\n",
       "      <td>veterinari offic vaccin chicken . vaccin help ...</td>\n",
       "      <td>NaN</td>\n",
       "    </tr>\n",
       "    <tr>\n",
       "      <th>1</th>\n",
       "      <td>1</td>\n",
       "      <td>veterinari offic vaccin chicken . vaccin help ...</td>\n",
       "      <td>NaN</td>\n",
       "    </tr>\n",
       "    <tr>\n",
       "      <th>2</th>\n",
       "      <td>2</td>\n",
       "      <td>veterinari offic vaccin chicken . vaccin help ...</td>\n",
       "      <td>NaN</td>\n",
       "    </tr>\n",
       "  </tbody>\n",
       "</table>\n",
       "</div>"
      ],
      "text/plain": [
       "   Unnamed: 0                                               text  title\n",
       "0           0  veterinari offic vaccin chicken . vaccin help ...    NaN\n",
       "1           1  veterinari offic vaccin chicken . vaccin help ...    NaN\n",
       "2           2  veterinari offic vaccin chicken . vaccin help ...    NaN"
      ]
     },
     "execution_count": 30,
     "metadata": {},
     "output_type": "execute_result"
    }
   ],
   "source": [
    "predictingd = pd.read_csv('predicting.csv')\n",
    "predictingd"
   ]
  },
  {
   "cell_type": "code",
   "execution_count": 31,
   "id": "d921aadd",
   "metadata": {},
   "outputs": [],
   "source": [
    "A = predictingd.text\n",
    "b = predictingd.title\n",
    "A_train, A_test, b_train, b_test = train_test_split(A, b, test_size=0.30)"
   ]
  },
  {
   "cell_type": "code",
   "execution_count": 32,
   "id": "effb07ce",
   "metadata": {},
   "outputs": [],
   "source": [
    "A_test_vect = vect.transform(A_test)"
   ]
  },
  {
   "cell_type": "markdown",
   "id": "d5962a5b",
   "metadata": {},
   "source": [
    "## Predict"
   ]
  },
  {
   "cell_type": "code",
   "execution_count": 33,
   "id": "1b537470",
   "metadata": {},
   "outputs": [
    {
     "data": {
      "text/plain": [
       "array([1], dtype=int64)"
      ]
     },
     "execution_count": 33,
     "metadata": {},
     "output_type": "execute_result"
    }
   ],
   "source": [
    "b_pred = nb.predict(A_test_vect)\n",
    "b_pred"
   ]
  },
  {
   "cell_type": "code",
   "execution_count": null,
   "id": "07a00115",
   "metadata": {},
   "outputs": [],
   "source": []
  }
 ],
 "metadata": {
  "kernelspec": {
   "display_name": "Python 3 (ipykernel)",
   "language": "python",
   "name": "python3"
  },
  "language_info": {
   "codemirror_mode": {
    "name": "ipython",
    "version": 3
   },
   "file_extension": ".py",
   "mimetype": "text/x-python",
   "name": "python",
   "nbconvert_exporter": "python",
   "pygments_lexer": "ipython3",
   "version": "3.8.5"
  }
 },
 "nbformat": 4,
 "nbformat_minor": 5
}
