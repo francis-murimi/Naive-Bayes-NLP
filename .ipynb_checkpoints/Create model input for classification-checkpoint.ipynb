{
 "cells": [
  {
   "cell_type": "code",
   "execution_count": 1,
   "id": "8d890692",
   "metadata": {},
   "outputs": [],
   "source": [
    "import math\n",
    "import random\n",
    "from collections import defaultdict\n",
    "from pprint import pprint"
   ]
  },
  {
   "cell_type": "code",
   "execution_count": 2,
   "id": "917b3630",
   "metadata": {},
   "outputs": [],
   "source": [
    "# Prevent future/deprecation warnings from showing in output\n",
    "import warnings\n",
    "warnings.filterwarnings(action='ignore')"
   ]
  },
  {
   "cell_type": "code",
   "execution_count": 3,
   "id": "44e9e195",
   "metadata": {},
   "outputs": [],
   "source": [
    "import numpy as np\n",
    "import pandas as pd\n",
    "import string\n",
    "import nltk"
   ]
  },
  {
   "cell_type": "code",
   "execution_count": 4,
   "id": "1ffa86a8",
   "metadata": {},
   "outputs": [],
   "source": [
    "## Read text from a file"
   ]
  },
  {
   "cell_type": "code",
   "execution_count": 7,
   "id": "5872ba3c",
   "metadata": {},
   "outputs": [],
   "source": [
    "filename = 'sakaja.txt'"
   ]
  },
  {
   "cell_type": "code",
   "execution_count": 10,
   "id": "e23aaa53",
   "metadata": {},
   "outputs": [
    {
     "data": {
      "text/plain": [
       "'\\nBy\\xa0\\nNdubi Moturi\\n\\n\\n\\n\\n“Mimi ni Johnson Sakaja, and together we are the Sakajas. Kuna kitu tunataka kutaja. \\xa0So keep plugged in like a charger. Because corona has come larger than NIC, CBA merger….”\\n\\nIn a viral video released\\xa0during the Covid-19 pandemic, Nairobi Senator Johnson Sakaja excited social media with a creative rap video featuring his two sons.\\n\\nAlthough he appears to have gotten his lyrics right, there’s one thing that the 37-year-old \\xa0\"\\'super-senator\" has not quite mastered; watching his mouth.\\n\\nHis recent struggle to fight against disqualification from the Nairobi gubernatorial race has cast a shadow of a man who always eats his own words.\\n\\nNot even his ‘management degree’ from Team University in Uganda would have helped him learn how to carefully manage his utterances in public.\\xa0\\n\\nA few months after releasing the rap hit, Sakaja was arrested for breaking the same rules that he was encouraging people not to break.\\n\\nBut Sakaja is not the one who bows down easily, he vehemently denied the claims that he was arrested at\\xa0Ladies Lounge in Kilimani for violating the government directions on Covid19.\\n\\n“Never been arrested. Won’t be. Show me an OB Number,” he tweeted a few hours later.\\n\\nAfter pressure mounted on him, Mr Sakaja would step down as the chair of the Senate ad hoc committee on Covid-19 pandemic and apologise for misleading Kenyans.\\n\\nIn his speech, he would acknowledge that he had indeed broken the same rules that he was expected to guard.\\n\\n“That is not my character. If it was just about been outside after nine, which would be one thing. I take responsibility for having flouted the Covid-19 rules. I was outside my home past 9pm. It is regrettable but all of us make mistakes,” he said at the time.\\n\\nHe is currently at the center of controversy after it emerged that he did not complete his Actuarial Science degree from University of Nairobi as he claimed earlier. His inconsistencies in relation to his studies have exposed him to the court of public opinion.\\n\\nIn his previous utterances, Mr Sakaja had romanticized how he was a top student right from his high school up until the University of Nairobi where he studied his Actuarial Science degree.\\n\\n“During my Form 2, I decided to work very hard. I would wake up at 4am to go and read in class. From that time henceforth my record remained exceptional. In fact if you go to Lenana School, nobody has beaten my Physics and English record,” he told Daniel Ndambuki aka Churchill in an interview last year.\\n\\nHis life in Nairobi Chiromo campus was also rosy, according to him, thanks to his student leadership position and his rich political networks.\\n\\n“I had a salon, a Kinyozi and I employed a lot of people in campus. Sometimes I also used to wash people’s clothes. From by businesses, I would raise over 6,000 per day. By the time I was in my fourth year I bought a Mercedes Benz from Senator Moses Wetangula at the cost of 500,000 shillings. I also had an apartment in Yaya where I used to stay after moving out of Chiromo,” he said in the interview.\\n\\nIn another interview with musician Nyashinski in September 2020, he also narrated his education journey saying he has never studied out of Kenya.\\n\\n“I have never gotten out of the country. I pursued my education in Kenya, from primary, high school to university,” he said.\\n\\nIt therefore beats logic how he enrolled for a degree in management from Team University in Uganda and completed it in one year.\\n\\nAfter claims that he did not complete his Actuarial Science the University of Nairobi emerged, he again denied the allegations and termed them “political”.\\n\\n“You will now hear some people saying that I was not born,” he said.\\n\\nOn whether he will survive the ongoing onslaught, it remains unclear.\\n\\nBut one thing the senator has taught is sometimes eating your own words can be bitter.\\n\\n\\nWe come to you.\\nWe are always looking for ways to improve our stories. Let us know what you liked and what we can improve on.\\n\\n\\n\\nThe woman’s husband, Mr Geofrey Otieno, had travelled out of Nairobi for work when the robbery happened.\\n\\n\\nThe remarks appear to have irked Senator Malala who told his supporters that Dr Khalwale showed he was confused.\\n\\n\\nIf you have an Ad-blocker please disable it and reload the page or try again later.\\n\\n\\n\\nNation Media Group © 2022\\n\\n\\nWelcome!'"
      ]
     },
     "execution_count": 10,
     "metadata": {},
     "output_type": "execute_result"
    }
   ],
   "source": [
    "with open(filename) as f:\n",
    "    contents = f.read()\n",
    "    f.close()\n",
    "\n",
    "contents"
   ]
  },
  {
   "cell_type": "markdown",
   "id": "1578ba2b",
   "metadata": {},
   "source": [
    "## Tekenize the content"
   ]
  },
  {
   "cell_type": "code",
   "execution_count": 13,
   "id": "4e71f8cf",
   "metadata": {},
   "outputs": [],
   "source": [
    "from nltk.tokenize import word_tokenize\n"
   ]
  },
  {
   "cell_type": "code",
   "execution_count": 14,
   "id": "a0dfc300",
   "metadata": {},
   "outputs": [],
   "source": [
    "data = word_tokenize(contents.lower())"
   ]
  },
  {
   "cell_type": "markdown",
   "id": "8a2af411",
   "metadata": {},
   "source": [
    "### Remove stop words"
   ]
  },
  {
   "cell_type": "code",
   "execution_count": 15,
   "id": "73cbe2ff",
   "metadata": {},
   "outputs": [],
   "source": [
    "from nltk.corpus import stopwords"
   ]
  },
  {
   "cell_type": "code",
   "execution_count": 17,
   "id": "219d95ad",
   "metadata": {},
   "outputs": [],
   "source": [
    "english_stopwords = stopwords.words('english')\n",
    "t_data = [t for t in data if t not in english_stopwords]"
   ]
  },
  {
   "cell_type": "markdown",
   "id": "953f22e8",
   "metadata": {},
   "source": [
    "### Stem the words"
   ]
  },
  {
   "cell_type": "code",
   "execution_count": 18,
   "id": "9ead1bfb",
   "metadata": {},
   "outputs": [],
   "source": [
    "from nltk import PorterStemmer"
   ]
  },
  {
   "cell_type": "code",
   "execution_count": 19,
   "id": "585e64eb",
   "metadata": {},
   "outputs": [],
   "source": [
    "ps = PorterStemmer()\n",
    "token_data = [ps.stem(i) for i in t_data]"
   ]
  },
  {
   "cell_type": "code",
   "execution_count": 23,
   "id": "299db510",
   "metadata": {},
   "outputs": [
    {
     "data": {
      "text/plain": [
       "\"ndubi moturi “ mimi ni johnson sakaja , togeth sakaja . kuna kitu tunataka kutaja . keep plug like charger . corona come larger nic , cba merger…. ” viral video releas covid-19 pandem , nairobi senat johnson sakaja excit social media creativ rap video featur two son . although appear gotten lyric right , ’ one thing 37-year-old '' 'super-sen '' quit master ; watch mouth . recent struggl fight disqualif nairobi gubernatori race cast shadow man alway eat word . even ‘ manag degre ’ team univers uganda would help learn care manag utter public . month releas rap hit , sakaja arrest break rule encourag peopl break . sakaja one bow easili , vehement deni claim arrest ladi loung kilimani violat govern direct covid19 . “ never arrest . ’ . show ob number , ” tweet hour later . pressur mount , mr sakaja would step chair senat ad hoc committe covid-19 pandem apologis mislead kenyan . speech , would acknowledg inde broken rule expect guard . “ charact . outsid nine , would one thing . take respons flout covid-19 rule . outsid home past 9pm . regrett us make mistak , ” said time . current center controversi emerg complet actuari scienc degre univers nairobi claim earlier . inconsist relat studi expos court public opinion . previou utter , mr sakaja romantic top student right high school univers nairobi studi actuari scienc degre . “ form 2 , decid work hard . would wake 4am go read class . time henceforth record remain except . fact go lenana school , nobodi beaten physic english record , ” told daniel ndambuki aka churchil interview last year . life nairobi chiromo campu also rosi , accord , thank student leadership posit rich polit network . “ salon , kinyozi employ lot peopl campu . sometim also use wash peopl ’ cloth . busi , would rais 6,000 per day . time fourth year bought merced benz senat mose wetangula cost 500,000 shill . also apart yaya use stay move chiromo , ” said interview . anoth interview musician nyashinski septemb 2020 , also narrat educ journey say never studi kenya . “ never gotten countri . pursu educ kenya , primari , high school univers , ” said . therefor beat logic enrol degre manag team univers uganda complet one year . claim complet actuari scienc univers nairobi emerg , deni alleg term “ polit ” . “ hear peopl say born , ” said . whether surviv ongo onslaught , remain unclear . one thing senat taught sometim eat word bitter . come . alway look way improv stori . let us know like improv . woman ’ husband , mr geofrey otieno , travel nairobi work robberi happen . remark appear irk senat malala told support dr khalwal show confus . ad-block pleas disabl reload page tri later . nation media group © 2022 welcom !\""
      ]
     },
     "execution_count": 23,
     "metadata": {},
     "output_type": "execute_result"
    }
   ],
   "source": [
    "# Join tokenized words\n",
    "token_text = ' '.join([str(item) for item in token_data])\n",
    "token_text"
   ]
  },
  {
   "cell_type": "markdown",
   "id": "0f8a0855",
   "metadata": {},
   "source": [
    "## create dataframe with cthe text content"
   ]
  },
  {
   "cell_type": "code",
   "execution_count": 24,
   "id": "6c71cfe2",
   "metadata": {},
   "outputs": [
    {
     "data": {
      "text/html": [
       "<div>\n",
       "<style scoped>\n",
       "    .dataframe tbody tr th:only-of-type {\n",
       "        vertical-align: middle;\n",
       "    }\n",
       "\n",
       "    .dataframe tbody tr th {\n",
       "        vertical-align: top;\n",
       "    }\n",
       "\n",
       "    .dataframe thead th {\n",
       "        text-align: right;\n",
       "    }\n",
       "</style>\n",
       "<table border=\"1\" class=\"dataframe\">\n",
       "  <thead>\n",
       "    <tr style=\"text-align: right;\">\n",
       "      <th></th>\n",
       "      <th>text</th>\n",
       "      <th>title</th>\n",
       "    </tr>\n",
       "  </thead>\n",
       "  <tbody>\n",
       "    <tr>\n",
       "      <th>0</th>\n",
       "      <td>ndubi moturi “ mimi ni johnson sakaja , togeth...</td>\n",
       "      <td>None</td>\n",
       "    </tr>\n",
       "  </tbody>\n",
       "</table>\n",
       "</div>"
      ],
      "text/plain": [
       "                                                text title\n",
       "0  ndubi moturi “ mimi ni johnson sakaja , togeth...  None"
      ]
     },
     "execution_count": 24,
     "metadata": {},
     "output_type": "execute_result"
    }
   ],
   "source": [
    "data = {'text': token_text,\n",
    "       'title': None}\n",
    " \n",
    "# Create DataFrame\n",
    "df = pd.DataFrame(data, index= [0])\n",
    "df"
   ]
  },
  {
   "cell_type": "code",
   "execution_count": 35,
   "id": "c9f007b4",
   "metadata": {},
   "outputs": [
    {
     "data": {
      "text/html": [
       "<div>\n",
       "<style scoped>\n",
       "    .dataframe tbody tr th:only-of-type {\n",
       "        vertical-align: middle;\n",
       "    }\n",
       "\n",
       "    .dataframe tbody tr th {\n",
       "        vertical-align: top;\n",
       "    }\n",
       "\n",
       "    .dataframe thead th {\n",
       "        text-align: right;\n",
       "    }\n",
       "</style>\n",
       "<table border=\"1\" class=\"dataframe\">\n",
       "  <thead>\n",
       "    <tr style=\"text-align: right;\">\n",
       "      <th></th>\n",
       "      <th>0</th>\n",
       "      <th>1</th>\n",
       "    </tr>\n",
       "  </thead>\n",
       "  <tbody>\n",
       "    <tr>\n",
       "      <th>0</th>\n",
       "      <td>ndubi moturi “ mimi ni johnson sakaja , togeth...</td>\n",
       "      <td>None</td>\n",
       "    </tr>\n",
       "    <tr>\n",
       "      <th>1</th>\n",
       "      <td>ndubi moturi “ mimi ni johnson sakaja , togeth...</td>\n",
       "      <td>None</td>\n",
       "    </tr>\n",
       "    <tr>\n",
       "      <th>2</th>\n",
       "      <td>ndubi moturi “ mimi ni johnson sakaja , togeth...</td>\n",
       "      <td>None</td>\n",
       "    </tr>\n",
       "  </tbody>\n",
       "</table>\n",
       "</div>"
      ],
      "text/plain": [
       "                                                   0     1\n",
       "0  ndubi moturi “ mimi ni johnson sakaja , togeth...  None\n",
       "1  ndubi moturi “ mimi ni johnson sakaja , togeth...  None\n",
       "2  ndubi moturi “ mimi ni johnson sakaja , togeth...  None"
      ]
     },
     "execution_count": 35,
     "metadata": {},
     "output_type": "execute_result"
    }
   ],
   "source": [
    "df"
   ]
  },
  {
   "cell_type": "code",
   "execution_count": 32,
   "id": "518756ac",
   "metadata": {},
   "outputs": [],
   "source": [
    "ndf = pd.DataFrame(np.repeat(df.values, 3, axis=0))\n",
    "ndf.columns = df.columns"
   ]
  },
  {
   "cell_type": "markdown",
   "id": "352c176f",
   "metadata": {},
   "source": [
    "## Save dataframe in a file"
   ]
  },
  {
   "cell_type": "code",
   "execution_count": 33,
   "id": "e6da2ff4",
   "metadata": {},
   "outputs": [],
   "source": [
    "# save df in file\n",
    "ndf.to_csv('predicting.csv')"
   ]
  },
  {
   "cell_type": "code",
   "execution_count": 34,
   "id": "348f599a",
   "metadata": {},
   "outputs": [
    {
     "data": {
      "text/html": [
       "<div>\n",
       "<style scoped>\n",
       "    .dataframe tbody tr th:only-of-type {\n",
       "        vertical-align: middle;\n",
       "    }\n",
       "\n",
       "    .dataframe tbody tr th {\n",
       "        vertical-align: top;\n",
       "    }\n",
       "\n",
       "    .dataframe thead th {\n",
       "        text-align: right;\n",
       "    }\n",
       "</style>\n",
       "<table border=\"1\" class=\"dataframe\">\n",
       "  <thead>\n",
       "    <tr style=\"text-align: right;\">\n",
       "      <th></th>\n",
       "      <th>0</th>\n",
       "      <th>1</th>\n",
       "    </tr>\n",
       "  </thead>\n",
       "  <tbody>\n",
       "    <tr>\n",
       "      <th>0</th>\n",
       "      <td>ndubi moturi “ mimi ni johnson sakaja , togeth...</td>\n",
       "      <td>None</td>\n",
       "    </tr>\n",
       "    <tr>\n",
       "      <th>1</th>\n",
       "      <td>ndubi moturi “ mimi ni johnson sakaja , togeth...</td>\n",
       "      <td>None</td>\n",
       "    </tr>\n",
       "    <tr>\n",
       "      <th>2</th>\n",
       "      <td>ndubi moturi “ mimi ni johnson sakaja , togeth...</td>\n",
       "      <td>None</td>\n",
       "    </tr>\n",
       "    <tr>\n",
       "      <th>3</th>\n",
       "      <td>ndubi moturi “ mimi ni johnson sakaja , togeth...</td>\n",
       "      <td>None</td>\n",
       "    </tr>\n",
       "    <tr>\n",
       "      <th>4</th>\n",
       "      <td>ndubi moturi “ mimi ni johnson sakaja , togeth...</td>\n",
       "      <td>None</td>\n",
       "    </tr>\n",
       "    <tr>\n",
       "      <th>5</th>\n",
       "      <td>ndubi moturi “ mimi ni johnson sakaja , togeth...</td>\n",
       "      <td>None</td>\n",
       "    </tr>\n",
       "    <tr>\n",
       "      <th>6</th>\n",
       "      <td>ndubi moturi “ mimi ni johnson sakaja , togeth...</td>\n",
       "      <td>None</td>\n",
       "    </tr>\n",
       "    <tr>\n",
       "      <th>7</th>\n",
       "      <td>ndubi moturi “ mimi ni johnson sakaja , togeth...</td>\n",
       "      <td>None</td>\n",
       "    </tr>\n",
       "    <tr>\n",
       "      <th>8</th>\n",
       "      <td>ndubi moturi “ mimi ni johnson sakaja , togeth...</td>\n",
       "      <td>None</td>\n",
       "    </tr>\n",
       "  </tbody>\n",
       "</table>\n",
       "</div>"
      ],
      "text/plain": [
       "                                                   0     1\n",
       "0  ndubi moturi “ mimi ni johnson sakaja , togeth...  None\n",
       "1  ndubi moturi “ mimi ni johnson sakaja , togeth...  None\n",
       "2  ndubi moturi “ mimi ni johnson sakaja , togeth...  None\n",
       "3  ndubi moturi “ mimi ni johnson sakaja , togeth...  None\n",
       "4  ndubi moturi “ mimi ni johnson sakaja , togeth...  None\n",
       "5  ndubi moturi “ mimi ni johnson sakaja , togeth...  None\n",
       "6  ndubi moturi “ mimi ni johnson sakaja , togeth...  None\n",
       "7  ndubi moturi “ mimi ni johnson sakaja , togeth...  None\n",
       "8  ndubi moturi “ mimi ni johnson sakaja , togeth...  None"
      ]
     },
     "execution_count": 34,
     "metadata": {},
     "output_type": "execute_result"
    }
   ],
   "source": [
    "ndf"
   ]
  },
  {
   "cell_type": "code",
   "execution_count": null,
   "id": "49ec368f",
   "metadata": {},
   "outputs": [],
   "source": []
  }
 ],
 "metadata": {
  "kernelspec": {
   "display_name": "Python 3 (ipykernel)",
   "language": "python",
   "name": "python3"
  },
  "language_info": {
   "codemirror_mode": {
    "name": "ipython",
    "version": 3
   },
   "file_extension": ".py",
   "mimetype": "text/x-python",
   "name": "python",
   "nbconvert_exporter": "python",
   "pygments_lexer": "ipython3",
   "version": "3.8.5"
  }
 },
 "nbformat": 4,
 "nbformat_minor": 5
}
